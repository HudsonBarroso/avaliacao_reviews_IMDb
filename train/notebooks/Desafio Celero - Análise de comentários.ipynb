{
 "cells": [
  {
   "cell_type": "code",
   "execution_count": 238,
   "id": "91c0ae36",
   "metadata": {},
   "outputs": [],
   "source": [
    "# Importação de livrarias\n",
    "import os\n",
    "import re\n",
    "from time import time\n",
    "\n",
    "import pandas as pd\n",
    "import numpy as np\n",
    "import matplotlib.pyplot as plt\n",
    "import seaborn as sns\n",
    "\n",
    "from sklearn.feature_extraction.text import CountVectorizer\n",
    "from sklearn.feature_extraction.text import TfidfVectorizer\n",
    "from sklearn.metrics import accuracy_score\n",
    "from sklearn.metrics import classification_report, confusion_matrix\n",
    "\n",
    "from nltk.tokenize import word_tokenize\n",
    "from nltk.stem import WordNetLemmatizer\n",
    "from nltk.corpus import stopwords\n",
    "\n",
    "\n",
    "\n",
    "%matplotlib inline\n",
    "import warnings\n",
    "warnings.filterwarnings(\"ignore\")"
   ]
  },
  {
   "cell_type": "markdown",
   "id": "f44510b9",
   "metadata": {},
   "source": [
    "## Carga dos dados\n",
    "Inicialmente é necessário fazer a separação entre os dados de treino e teste já que quando é realizado o download do dataset, esses diretórios estão dentro de \"aclImdb\".\n",
    "Em seguida, já dentro do diretório, é necessário abrir os diretório de reviews positivos e classifica-los como 1 e os negativos como -1."
   ]
  },
  {
   "cell_type": "code",
   "execution_count": 181,
   "id": "be2e1fe0",
   "metadata": {},
   "outputs": [],
   "source": [
    "def load_data(data_dir):\n",
    "    data = {}\n",
    "    for split in [\"train\", \"test\"]:\n",
    "        data[split] = []\n",
    "        for sentiment in [\"neg\", \"pos\"]:\n",
    "            if sentiment == 'pos':\n",
    "                score = 1\n",
    "            else: \n",
    "                score = -1\n",
    "            path = os.path.join(data_dir, split, sentiment)\n",
    "            file_names = os.listdir(path)\n",
    "            for f_name in file_names:\n",
    "                with open(os.path.join(path, f_name), \"r\", encoding=\"utf-8\") as f:\n",
    "                    review = f.read()\n",
    "                    data[split].append([review, score])                         \n",
    "    return data[\"train\"], data[\"test\"] \n",
    "\n",
    "train_data, test_data = load_data(data_dir=\"aclImdb/\")"
   ]
  },
  {
   "cell_type": "markdown",
   "id": "5fe3a5c5",
   "metadata": {},
   "source": [
    "## Criação do DataFrame\n",
    "Agora utilizo os dados retornados pela função para criar DataFrames do Pandas"
   ]
  },
  {
   "cell_type": "code",
   "execution_count": 277,
   "id": "a9a4091f",
   "metadata": {},
   "outputs": [],
   "source": [
    "# https://pandas.pydata.org/docs/reference/api/pandas.DataFrame.html\n",
    "train_data = pd.DataFrame(train_data, columns=['text', 'sentiment'])\n",
    "test_data = pd.DataFrame(test_data,columns=['text', 'sentiment'])"
   ]
  },
  {
   "cell_type": "code",
   "execution_count": 302,
   "id": "09ba51ca",
   "metadata": {},
   "outputs": [],
   "source": [
    "def analisa_dados(data):\n",
    "    print('Tamanho do dataset:\\n', data.shape)\n",
    "    print('\\nVisualização dos 5 primeiros dados:\\n', data.head())\n",
    "    print('\\nVisualização dos 5 últimos dados:\\n', data.tail())\n",
    "    print('\\nExistem valores faltantes?', data.isnull().any().any())"
   ]
  },
  {
   "cell_type": "code",
   "execution_count": 303,
   "id": "d9914d89",
   "metadata": {},
   "outputs": [
    {
     "name": "stdout",
     "output_type": "stream",
     "text": [
      "Tamanho do dataset:\n",
      " (25000, 2)\n",
      "\n",
      "Visualização dos 5 primeiros dados:\n",
      "                                                 text  sentiment\n",
      "0  I've seen all kinds of \"Hamlet\"s. <br /><br />...         -1\n",
      "1  This picture for me scores very highly as it i...          1\n",
      "2  Lady in Cement - PI spoof with ole Blue Eyes.F...         -1\n",
      "3  Otto Preminger directs this light as a feather...         -1\n",
      "4  The mere fact that I still think of the movie ...          1\n",
      "\n",
      "Visualização dos 5 últimos dados:\n",
      "                                                     text  sentiment\n",
      "24995  An opium den, a dirty little boy (actually a m...          1\n",
      "24996  This is a typical low budget 1970's mess. It's...         -1\n",
      "24997  After the SuperFriends and Scooby Doo left the...          1\n",
      "24998  THE MELTING MAN...a tragic victim of the space...          1\n",
      "24999  This movie is hilarious, not in good way. The ...         -1\n",
      "\n",
      "Existem valores faltantes? False\n"
     ]
    }
   ],
   "source": [
    "analisa_dados(train_data)"
   ]
  },
  {
   "cell_type": "markdown",
   "id": "1b532da8",
   "metadata": {},
   "source": [
    "Os dados parecem estar ordernados por classificação de reviews, primeiros os negativos e depois os positivos.\n",
    "Será necessário realizar um \"embaralhamento\""
   ]
  },
  {
   "cell_type": "code",
   "execution_count": 292,
   "id": "57fe1315",
   "metadata": {},
   "outputs": [],
   "source": [
    "# https://scikit-learn.org/stable/modules/generated/sklearn.utils.shuffle.html\n",
    "from sklearn.utils import shuffle\n",
    "train_data = shuffle(train_data)\n",
    "train_data.reset_index(inplace=True, drop=True)\n",
    "\n",
    "test_data = shuffle(test_data)\n",
    "test_data.reset_index(inplace=True, drop=True)"
   ]
  },
  {
   "cell_type": "code",
   "execution_count": 293,
   "id": "8fcd96c3",
   "metadata": {},
   "outputs": [
    {
     "name": "stdout",
     "output_type": "stream",
     "text": [
      "Tamanho do dataset:\n",
      " (25000, 2)\n",
      "\n",
      "Visualização dos 5 primeiros dados:\n",
      "                                                 text  sentiment\n",
      "0  I've seen all kinds of \"Hamlet\"s. <br /><br />...         -1\n",
      "1  This picture for me scores very highly as it i...          1\n",
      "2  Lady in Cement - PI spoof with ole Blue Eyes.F...         -1\n",
      "3  Otto Preminger directs this light as a feather...         -1\n",
      "4  The mere fact that I still think of the movie ...          1\n",
      "\n",
      "Visualização dos 5 últimos dados:\n",
      "                                                     text  sentiment\n",
      "24995  An opium den, a dirty little boy (actually a m...          1\n",
      "24996  This is a typical low budget 1970's mess. It's...         -1\n",
      "24997  After the SuperFriends and Scooby Doo left the...          1\n",
      "24998  THE MELTING MAN...a tragic victim of the space...          1\n",
      "24999  This movie is hilarious, not in good way. The ...         -1\n"
     ]
    }
   ],
   "source": [
    "analisa_dados(train_data)"
   ]
  },
  {
   "cell_type": "code",
   "execution_count": 294,
   "id": "f39e95ee",
   "metadata": {},
   "outputs": [
    {
     "name": "stdout",
     "output_type": "stream",
     "text": [
      "Tamanho do dataset:\n",
      " (25000, 2)\n",
      "\n",
      "Visualização dos 5 primeiros dados:\n",
      "                                                 text  sentiment\n",
      "0  Wow, I think the overall average rating of thi...          1\n",
      "1  \"Black Water\" is a movie that in a way surpris...          1\n",
      "2  The only people i would recommend this film to...         -1\n",
      "3  Apparently this Australian film based on Nevil...          1\n",
      "4  A 'Wes Craven presents' movie from 1995, direc...         -1\n",
      "\n",
      "Visualização dos 5 últimos dados:\n",
      "                                                     text  sentiment\n",
      "24995  I was really disappointed after viewing Pinocc...         -1\n",
      "24996  Is this movie as bad as some claim? In my opin...         -1\n",
      "24997  Slasher sequel (fourth SLUMBER PART MASSACRE f...         -1\n",
      "24998  Ever since they first came to the Outer Banks ...          1\n",
      "24999  Ms Aparna Sen, the maker of Mr & Mrs Iyer, dir...          1\n"
     ]
    }
   ],
   "source": [
    "analisa_dados(test_data)"
   ]
  },
  {
   "cell_type": "code",
   "execution_count": 295,
   "id": "f0ba3d85",
   "metadata": {},
   "outputs": [
    {
     "data": {
      "text/plain": [
       " 1    12500\n",
       "-1    12500\n",
       "Name: sentiment, dtype: int64"
      ]
     },
     "execution_count": 295,
     "metadata": {},
     "output_type": "execute_result"
    }
   ],
   "source": [
    "train_data['sentiment'].value_counts()"
   ]
  },
  {
   "cell_type": "code",
   "execution_count": 296,
   "id": "ccdc682e",
   "metadata": {},
   "outputs": [
    {
     "data": {
      "text/plain": [
       " 1    12500\n",
       "-1    12500\n",
       "Name: sentiment, dtype: int64"
      ]
     },
     "execution_count": 296,
     "metadata": {},
     "output_type": "execute_result"
    }
   ],
   "source": [
    "test_data['sentiment'].value_counts()"
   ]
  },
  {
   "cell_type": "markdown",
   "id": "a99eea4e",
   "metadata": {},
   "source": [
    "## Pre Processamento"
   ]
  },
  {
   "cell_type": "code",
   "execution_count": 311,
   "id": "3fbf3c0c",
   "metadata": {},
   "outputs": [],
   "source": [
    "def limpa_texto(text):  \n",
    "    # remove tags do HTML\n",
    "    text = re.sub(r'<.*?>', '', text)    \n",
    "    # remove os caracteres (\\), (') e (\")\n",
    "    text = re.sub(r\"\\\\\", \"\", text)    \n",
    "    text = re.sub(r\"\\'\", \"\", text)    \n",
    "    text = re.sub(r\"\\\"\", \"\", text)\n",
    "    # converte o texto para lowercase\n",
    "    text = text.strip().lower()    \n",
    "    # remove os caracteres de pontuação\n",
    "    filters='!\"\\'#$%&()*+,-./:;<=>?@[\\\\]^_`{|}~\\t\\n'            \n",
    "    translate_dict = dict((c, \" \") for c in filters)\n",
    "    translate_map = str.maketrans(translate_dict)\n",
    "    text = text.translate(translate_map)   \n",
    "    # remove digitos dentro de uma palavra, exemplo brasil123 = brasil\n",
    "    text = re.sub('W*dw*','',text)\n",
    "    # remove espaços extras\n",
    "    text = re.sub(' +', ' ', text)\n",
    "                 \n",
    "    return text"
   ]
  },
  {
   "cell_type": "markdown",
   "id": "80df0a7e",
   "metadata": {},
   "source": [
    "## Modelagem\n",
    "Usar o CountVectorize para gerar a matriz de frequência\n",
    "\n",
    "Aplicarei o parâmetro stop_words para excluir as palavras que não agregam valor ao modelo\n",
    "\n",
    "Também aplicarei o parâmetro preprocessor para chamar a nossa função que limpa o texto"
   ]
  },
  {
   "cell_type": "code",
   "execution_count": 312,
   "id": "2eca015d",
   "metadata": {},
   "outputs": [
    {
     "name": "stdout",
     "output_type": "stream",
     "text": [
      "Tempo: 81.24s\n"
     ]
    }
   ],
   "source": [
    "#https://scikit-learn.org/stable/modules/generated/sklearn.feature_extraction.text.CountVectorizer.html\n",
    "start = time()\n",
    "vectorizer = CountVectorizer(stop_words=\"english\", preprocessor=limpa_texto)\n",
    "training_features = vectorizer.fit_transform(train_data[\"text\"]) \n",
    "#print('Training Features' + str(training_features))\n",
    "test_features = vectorizer.transform(test_data[\"text\"])\n",
    "#print('Testing Features' + str(test_features))\n",
    "print ('Tempo: {:.2f}s'.format(time()-start))"
   ]
  },
  {
   "cell_type": "markdown",
   "id": "5dee67b6",
   "metadata": {},
   "source": [
    "### LinearSVC"
   ]
  },
  {
   "cell_type": "code",
   "execution_count": 336,
   "id": "813a0607",
   "metadata": {},
   "outputs": [
    {
     "name": "stdout",
     "output_type": "stream",
     "text": [
      "[LibLinear]-604\n",
      "Tempo: 8.96s\n",
      "\n",
      "Accuracy on the IMDB dataset: 83.49\n",
      "              precision    recall  f1-score   support\n",
      "\n",
      " Negative -1       0.83      0.85      0.84     12500\n",
      "  Positive 1       0.84      0.82      0.83     12500\n",
      "\n",
      "    accuracy                           0.83     25000\n",
      "   macro avg       0.84      0.83      0.83     25000\n",
      "weighted avg       0.84      0.83      0.83     25000\n",
      "\n"
     ]
    }
   ],
   "source": [
    "# Training\n",
    "from sklearn.svm import LinearSVC\n",
    "start = time()\n",
    "\n",
    "model1 = LinearSVC(verbose = 1)\n",
    "model1.fit(training_features, train_data[\"sentiment\"])\n",
    "y_pred = model1.predict(test_features)\n",
    "print(y_pred)\n",
    "# Evaluation\n",
    "acc = accuracy_score(test_data[\"sentiment\"], y_pred)\n",
    "print ('Tempo: {:.2f}s\\n'.format(time()-start))\n",
    "print(\"Accuracy on the IMDB dataset: {:.2f}\".format(acc*100))\n",
    "print(classification_report(test_data['sentiment'], model1.predict(test_features), target_names=['Negative -1','Positive 1']))"
   ]
  },
  {
   "cell_type": "markdown",
   "id": "a6c333f1",
   "metadata": {},
   "source": [
    "### LogisticRegression"
   ]
  },
  {
   "cell_type": "code",
   "execution_count": 327,
   "id": "25dc63b5",
   "metadata": {},
   "outputs": [
    {
     "name": "stderr",
     "output_type": "stream",
     "text": [
      "[Parallel(n_jobs=1)]: Using backend SequentialBackend with 1 concurrent workers.\n"
     ]
    },
    {
     "name": "stdout",
     "output_type": "stream",
     "text": [
      "[ 1  1 -1 ... -1  1  1]\n",
      "Tempo: 36.71s\n",
      "\n",
      "Accuracy on the IMDB dataset: 86.00\n",
      "              precision    recall  f1-score   support\n",
      "\n",
      " Negative -1       0.85      0.87      0.86     12500\n",
      "  Positive 1       0.87      0.85      0.86     12500\n",
      "\n",
      "    accuracy                           0.86     25000\n",
      "   macro avg       0.86      0.86      0.86     25000\n",
      "weighted avg       0.86      0.86      0.86     25000\n",
      "\n"
     ]
    },
    {
     "name": "stderr",
     "output_type": "stream",
     "text": [
      "[Parallel(n_jobs=1)]: Done   1 out of   1 | elapsed:   36.5s finished\n"
     ]
    }
   ],
   "source": [
    "# Training\n",
    "from sklearn.linear_model import LogisticRegression\n",
    "start = time()\n",
    "\n",
    "model2 = LogisticRegression(verbose = 1)\n",
    "model2.fit(training_features, train_data[\"sentiment\"])\n",
    "y_pred = model2.predict(test_features)\n",
    "print(y_pred)\n",
    "# Evaluation\n",
    "acc = accuracy_score(test_data[\"sentiment\"], y_pred)\n",
    "print ('Tempo: {:.2f}s\\n'.format(time()-start))\n",
    "print(\"Accuracy on the IMDB dataset: {:.2f}\".format(acc*100))\n",
    "print(classification_report(test_data['sentiment'], model2.predict(test_features), target_names=['Negative -1','Positive 1']))"
   ]
  },
  {
   "cell_type": "markdown",
   "id": "874e620b",
   "metadata": {},
   "source": [
    "### RidgeClassifier"
   ]
  },
  {
   "cell_type": "code",
   "execution_count": 328,
   "id": "a8003068",
   "metadata": {},
   "outputs": [
    {
     "name": "stdout",
     "output_type": "stream",
     "text": [
      "[ 1  1 -1 ...  1  1  1]\n",
      "Tempo: 18.46s\n",
      "\n",
      "Accuracy on the IMDB dataset: 75.69\n",
      "              precision    recall  f1-score   support\n",
      "\n",
      " Negative -1       0.75      0.77      0.76     12500\n",
      "  Positive 1       0.77      0.74      0.75     12500\n",
      "\n",
      "    accuracy                           0.76     25000\n",
      "   macro avg       0.76      0.76      0.76     25000\n",
      "weighted avg       0.76      0.76      0.76     25000\n",
      "\n"
     ]
    }
   ],
   "source": [
    "# Training\n",
    "from sklearn.linear_model import RidgeClassifier\n",
    "start = time()\n",
    "\n",
    "model3 = RidgeClassifier()\n",
    "model3.fit(training_features, train_data[\"sentiment\"])\n",
    "y_pred = model3.predict(test_features)\n",
    "print(y_pred)\n",
    "# Evaluation\n",
    "acc = accuracy_score(test_data[\"sentiment\"], y_pred)\n",
    "print ('Tempo: {:.2f}s\\n'.format(time()-start))\n",
    "print(\"Accuracy on the IMDB dataset: {:.2f}\".format(acc*100))\n",
    "print(classification_report(test_data['sentiment'], model3.predict(test_features), target_names=['Negative -1','Positive 1']))"
   ]
  },
  {
   "cell_type": "markdown",
   "id": "5903b37a",
   "metadata": {},
   "source": [
    "## PassiveAggressiveClassifier"
   ]
  },
  {
   "cell_type": "code",
   "execution_count": 355,
   "id": "6dacbae1",
   "metadata": {},
   "outputs": [
    {
     "name": "stdout",
     "output_type": "stream",
     "text": [
      "[ 1 -1 -1 ... -1  1  1]\n",
      "Tempo: 12.45s\n",
      "\n",
      "Accuracy on the IMDB dataset: 88.80\n",
      "              precision    recall  f1-score   support\n",
      "\n",
      " Negative -1       0.89      0.89      0.89     12500\n",
      "  Positive 1       0.89      0.89      0.89     12500\n",
      "\n",
      "    accuracy                           0.89     25000\n",
      "   macro avg       0.89      0.89      0.89     25000\n",
      "weighted avg       0.89      0.89      0.89     25000\n",
      "\n"
     ]
    }
   ],
   "source": [
    "from sklearn.linear_model import PassiveAggressiveClassifier\n",
    "start = time()\n",
    "\n",
    "model4= PassiveAggressiveClassifier(max_iter=150, random_state=0)\n",
    "model4.fit(training_features, train_data[\"sentiment\"])\n",
    "y_pred = model4.predict(test_features)\n",
    "print(y_pred)\n",
    "# Evaluation\n",
    "acc = accuracy_score(test_data[\"sentiment\"], y_pred)\n",
    "print ('Tempo: {:.2f}s\\n'.format(time()-start))\n",
    "print(\"Accuracy on the IMDB dataset: {:.2f}\".format(acc*100))\n",
    "print(classification_report(test_data['sentiment'], model4.predict(test_features), target_names=['Negative -1','Positive 1']))"
   ]
  },
  {
   "cell_type": "markdown",
   "id": "5caf796b",
   "metadata": {},
   "source": [
    "## TfidfVectorizer"
   ]
  },
  {
   "cell_type": "code",
   "execution_count": 344,
   "id": "0807d521",
   "metadata": {},
   "outputs": [],
   "source": [
    "vectorizer = TfidfVectorizer(stop_words=\"english\",\n",
    "                             preprocessor=limpa_texto,\n",
    "                             ngram_range=(1, 2))\n",
    "training_features = vectorizer.fit_transform(train_data[\"text\"]) \n",
    "test_features = vectorizer.transform(test_data[\"text\"])"
   ]
  },
  {
   "cell_type": "markdown",
   "id": "fad3522e",
   "metadata": {},
   "source": [
    "### LogisticRegression"
   ]
  },
  {
   "cell_type": "code",
   "execution_count": 349,
   "id": "ac4fbde3",
   "metadata": {},
   "outputs": [
    {
     "name": "stderr",
     "output_type": "stream",
     "text": [
      "[Parallel(n_jobs=1)]: Using backend SequentialBackend with 1 concurrent workers.\n"
     ]
    },
    {
     "name": "stdout",
     "output_type": "stream",
     "text": [
      "[ 1 -1 -1 ... -1  1  1]\n",
      "Tempo: 30.90s\n",
      "\n",
      "Accuracy on the IMDB dataset: 87.57\n",
      "              precision    recall  f1-score   support\n",
      "\n",
      " Negative -1       0.88      0.87      0.88     12500\n",
      "  Positive 1       0.87      0.88      0.88     12500\n",
      "\n",
      "    accuracy                           0.88     25000\n",
      "   macro avg       0.88      0.88      0.88     25000\n",
      "weighted avg       0.88      0.88      0.88     25000\n",
      "\n"
     ]
    },
    {
     "name": "stderr",
     "output_type": "stream",
     "text": [
      "[Parallel(n_jobs=1)]: Done   1 out of   1 | elapsed:   30.7s finished\n"
     ]
    }
   ],
   "source": [
    "start = time()\n",
    "\n",
    "model = LogisticRegression(verbose = 1)\n",
    "model.fit(training_features, train_data[\"sentiment\"])\n",
    "y_pred = model.predict(test_features)\n",
    "print(y_pred)\n",
    "# Evaluation\n",
    "acc = accuracy_score(test_data[\"sentiment\"], y_pred)\n",
    "print ('Tempo: {:.2f}s\\n'.format(time()-start))\n",
    "print(\"Accuracy on the IMDB dataset: {:.2f}\".format(acc*100))\n",
    "print(classification_report(test_data['sentiment'], model.predict(test_features), target_names=['Negative -1','Positive 1']))"
   ]
  },
  {
   "cell_type": "markdown",
   "id": "3d4ae9bb",
   "metadata": {},
   "source": [
    "### Matrix de Confusão"
   ]
  },
  {
   "cell_type": "code",
   "execution_count": 351,
   "id": "27dd6187",
   "metadata": {},
   "outputs": [
    {
     "data": {
      "image/png": "[encoded data removed]",
      "text/plain": [
       "<Figure size 360x360 with 2 Axes>"
      ]
     },
     "metadata": {
      "needs_background": "light"
     },
     "output_type": "display_data"
    }
   ],
   "source": [
    "cm = confusion_matrix(test_data['sentiment'], model.predict(test_features))\n",
    "plt.rcParams['figure.figsize'] = (5, 5)\n",
    "sns.heatmap(cm, annot = True, cmap = plt.cm.Blues, fmt = '.8g')\n",
    "classes = ['Negative -1', 'Positive 1']\n",
    "tick_marks = np.arange(len(classes))\n",
    "plt.xticks(tick_marks, classes, rotation=45)\n",
    "plt.yticks(tick_marks, classes)\n",
    "plt.xlabel('Valor Predito')\n",
    "plt.ylabel('Valor atual')\n",
    "plt.show()"
   ]
  },
  {
   "cell_type": "markdown",
   "id": "ec17210a",
   "metadata": {},
   "source": [
    "Avaliação dos modelos e técnicas:\n",
    "\n",
    "    * CountVectorizer -> LogisticRegression: 86.00\n",
    "    * TfidfVectorizer -> LogisticRegression: 87.57  \n",
    "        \n",
    "Modelo Escolhido : TfidfVectorizer -> LogisticRegression"
   ]
  },
  {
   "cell_type": "markdown",
   "id": "c235da78",
   "metadata": {},
   "source": [
    "### Salvando o Modelo"
   ]
  },
  {
   "cell_type": "code",
   "execution_count": 352,
   "id": "fd829c0e",
   "metadata": {},
   "outputs": [
    {
     "data": {
      "text/plain": [
       "['logistic_model.pkl']"
      ]
     },
     "execution_count": 352,
     "metadata": {},
     "output_type": "execute_result"
    }
   ],
   "source": [
    "import joblib\n",
    "joblib.dump(vectorizer, 'vectorizer.pkl', protocol=2)\n",
    "joblib.dump(model, 'logistic_model.pkl', protocol=2)"
   ]
  },
  {
   "cell_type": "markdown",
   "id": "0be87c26",
   "metadata": {},
   "source": [
    "### Novas avaliações"
   ]
  },
  {
   "cell_type": "code",
   "execution_count": 353,
   "id": "f1a40fbc",
   "metadata": {},
   "outputs": [],
   "source": [
    "def pred_new(text):    \n",
    "    text = vectorizer.transform([text])\n",
    "    result = model.predict(text)\n",
    "    final = '-1 Negative' if result[0] == -1 else '1 Positive'\n",
    "    final = print(final)\n",
    "    return final"
   ]
  },
  {
   "cell_type": "code",
   "execution_count": 354,
   "id": "0d33d9cf",
   "metadata": {},
   "outputs": [
    {
     "name": "stdout",
     "output_type": "stream",
     "text": [
      "1 Positive\n"
     ]
    }
   ],
   "source": [
    "pred_new('The movie is great')"
   ]
  }
 ],
 "metadata": {
  "kernelspec": {
   "display_name": "Python 3",
   "language": "python",
   "name": "python3"
  },
  "language_info": {
   "codemirror_mode": {
    "name": "ipython",
    "version": 3
   },
   "file_extension": ".py",
   "mimetype": "text/x-python",
   "name": "python",
   "nbconvert_exporter": "python",
   "pygments_lexer": "ipython3",
   "version": "3.8.8"
  }
 },
 "nbformat": 4,
 "nbformat_minor": 5
}
