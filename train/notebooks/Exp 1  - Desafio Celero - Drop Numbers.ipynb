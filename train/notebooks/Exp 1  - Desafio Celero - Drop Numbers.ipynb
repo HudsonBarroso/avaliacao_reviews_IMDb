{
 "cells": [
  {
   "cell_type": "code",
   "execution_count": 1,
   "id": "c1b21709",
   "metadata": {},
   "outputs": [],
   "source": [
    "# Importação de livrarias\n",
    "import os\n",
    "import re\n",
    "from time import time\n",
    "\n",
    "import pandas as pd\n",
    "import numpy as np\n",
    "import matplotlib.pyplot as plt\n",
    "import seaborn as sns\n",
    "\n",
    "from sklearn.feature_extraction.text import CountVectorizer\n",
    "from sklearn.metrics import accuracy_score\n",
    "from sklearn.svm import LinearSVC\n",
    "from sklearn.feature_extraction.text import TfidfVectorizer\n",
    "\n",
    "from nltk.tokenize import word_tokenize\n",
    "from nltk.stem import WordNetLemmatizer\n",
    "from nltk.corpus import stopwords\n",
    "\n",
    "from sklearn.metrics import classification_report, confusion_matrix\n",
    "\n",
    "%matplotlib inline\n",
    "import warnings\n",
    "warnings.filterwarnings(\"ignore\")"
   ]
  },
  {
   "cell_type": "markdown",
   "id": "fdb6fe26",
   "metadata": {},
   "source": [
    "## Carga dos dados\n",
    "Inicialmente é necessário fazer a separação entre os dados de treino e teste já que quando é realizado o download do dataset, esses diretórios estão dentro de \"aclImdb\".\n",
    "Em seguida, já dentro do diretório, é necessário abrir os diretório de reviews positivos e classifica-los como 1 e os negativos como -1."
   ]
  },
  {
   "cell_type": "code",
   "execution_count": 2,
   "id": "50535fe9",
   "metadata": {},
   "outputs": [],
   "source": [
    "def load_data(data_dir):\n",
    "    data = {}\n",
    "    for split in [\"train\", \"test\"]:\n",
    "        data[split] = []\n",
    "        for sentiment in [\"neg\", \"pos\"]:\n",
    "            if sentiment == 'pos':\n",
    "                score = 1\n",
    "            else: \n",
    "                score = -1\n",
    "            path = os.path.join(data_dir, split, sentiment)\n",
    "            file_names = os.listdir(path)\n",
    "            for f_name in file_names:\n",
    "                with open(os.path.join(path, f_name), \"r\", encoding=\"utf-8\") as f:\n",
    "                    review = f.read()\n",
    "                    data[split].append([review, score])                         \n",
    "    return data[\"train\"], data[\"test\"] \n",
    "\n",
    "train_data, test_data = load_data(data_dir=\"aclImdb/\")"
   ]
  },
  {
   "cell_type": "markdown",
   "id": "474f9ede",
   "metadata": {},
   "source": [
    "## Criação do DataFrame\n",
    "Agora utilizo os dados retornados pela função para criar DataFrames do Pandas"
   ]
  },
  {
   "cell_type": "code",
   "execution_count": 3,
   "id": "d118657d",
   "metadata": {},
   "outputs": [],
   "source": [
    "# https://pandas.pydata.org/docs/reference/api/pandas.DataFrame.html\n",
    "train_data = pd.DataFrame(train_data, columns=['text', 'sentiment'])\n",
    "test_data = pd.DataFrame(test_data,columns=['text', 'sentiment'])"
   ]
  },
  {
   "cell_type": "code",
   "execution_count": 4,
   "id": "0e9e627b",
   "metadata": {},
   "outputs": [],
   "source": [
    "def analisa_dados(data):\n",
    "    print('Tamanho do dataset:\\n', data.shape)\n",
    "    print('\\nVisualização dos 5 primeiros dados:\\n', data.head())\n",
    "    print('\\nVisualização dos 5 últimos dados:\\n', data.tail())\n",
    "    print('\\nExistem valores faltantes?', data.isnull().any().any())"
   ]
  },
  {
   "cell_type": "code",
   "execution_count": 5,
   "id": "17f80bf5",
   "metadata": {},
   "outputs": [
    {
     "name": "stdout",
     "output_type": "stream",
     "text": [
      "Tamanho do dataset:\n",
      " (25000, 2)\n",
      "\n",
      "Visualização dos 5 primeiros dados:\n",
      "                                                 text  sentiment\n",
      "0  Story of a man who has unnatural feelings for ...         -1\n",
      "1  Airport '77 starts as a brand new luxury 747 p...         -1\n",
      "2  This film lacked something I couldn't put my f...         -1\n",
      "3  Sorry everyone,,, I know this is supposed to b...         -1\n",
      "4  When I was little my parents took me along to ...         -1\n",
      "\n",
      "Visualização dos 5 últimos dados:\n",
      "                                                     text  sentiment\n",
      "24995  Seeing as the vote average was pretty low, and...          1\n",
      "24996  The plot had some wretched, unbelievable twist...          1\n",
      "24997  I am amazed at how this movie(and most others ...          1\n",
      "24998  A Christmas Together actually came before my t...          1\n",
      "24999  Working-class romantic drama from director Mar...          1\n",
      "\n",
      "Existem valores faltantes? False\n"
     ]
    }
   ],
   "source": [
    "analisa_dados(train_data)"
   ]
  },
  {
   "cell_type": "markdown",
   "id": "845a70ae",
   "metadata": {},
   "source": [
    "Os dados parecem estar ordernados por classificação de reviews, primeiros os negativos e depois os positivos.\n",
    "Será necessário realizar um \"embaralhamento\""
   ]
  },
  {
   "cell_type": "code",
   "execution_count": 6,
   "id": "1628d864",
   "metadata": {},
   "outputs": [],
   "source": [
    "# https://scikit-learn.org/stable/modules/generated/sklearn.utils.shuffle.html\n",
    "from sklearn.utils import shuffle\n",
    "train_data = shuffle(train_data)\n",
    "train_data.reset_index(inplace=True, drop=True)\n",
    "\n",
    "test_data = shuffle(test_data)\n",
    "test_data.reset_index(inplace=True, drop=True)"
   ]
  },
  {
   "cell_type": "code",
   "execution_count": 7,
   "id": "96b6490d",
   "metadata": {},
   "outputs": [
    {
     "name": "stdout",
     "output_type": "stream",
     "text": [
      "Tamanho do dataset:\n",
      " (25000, 2)\n",
      "\n",
      "Visualização dos 5 primeiros dados:\n",
      "                                                 text  sentiment\n",
      "0  Time paradoxes are the devil's snare for under...          1\n",
      "1  I second the motion to make this into a movie,...          1\n",
      "2  If Alien, Jurassic Park and countless other sc...         -1\n",
      "3  The first two sequences of this movie set up t...          1\n",
      "4  I rented this movie because I was browsing thr...         -1\n",
      "\n",
      "Visualização dos 5 últimos dados:\n",
      "                                                     text  sentiment\n",
      "24995  Red Rock West is one of those rare films that ...          1\n",
      "24996  I debated as to whether or not I should tick t...         -1\n",
      "24997  A still famous but decadent actor (Morgan Free...         -1\n",
      "24998  I got hooked on this as apparently ABC has lic...          1\n",
      "24999  WWE was in need of a saviour as Wrestlemania 1...          1\n",
      "\n",
      "Existem valores faltantes? False\n"
     ]
    }
   ],
   "source": [
    "analisa_dados(train_data)"
   ]
  },
  {
   "cell_type": "code",
   "execution_count": 8,
   "id": "f7da301c",
   "metadata": {},
   "outputs": [
    {
     "name": "stdout",
     "output_type": "stream",
     "text": [
      "Tamanho do dataset:\n",
      " (25000, 2)\n",
      "\n",
      "Visualização dos 5 primeiros dados:\n",
      "                                                 text  sentiment\n",
      "0  I gotta go with my boy Allen (who also reviewe...         -1\n",
      "1  I saw this film over Christmas, and what a gre...          1\n",
      "2  If there are people that don't like this movie...          1\n",
      "3  So, as far as I gather, this episode is trying...         -1\n",
      "4  Last night, I saw A PECK ON THE CHEEK (KANNATH...          1\n",
      "\n",
      "Visualização dos 5 últimos dados:\n",
      "                                                     text  sentiment\n",
      "24995  Mike Nichols in finest form. I was not a fan o...          1\n",
      "24996  This might very well be the worst movie I've s...         -1\n",
      "24997  The first reviewer is right - In this movie we...          1\n",
      "24998  The Standard bearer of all movie serials, the ...          1\n",
      "24999  In this film, the astronauts sent to explore a...          1\n",
      "\n",
      "Existem valores faltantes? False\n"
     ]
    }
   ],
   "source": [
    "analisa_dados(test_data)"
   ]
  },
  {
   "cell_type": "code",
   "execution_count": 9,
   "id": "2cb3f518",
   "metadata": {},
   "outputs": [
    {
     "data": {
      "text/plain": [
       " 1    12500\n",
       "-1    12500\n",
       "Name: sentiment, dtype: int64"
      ]
     },
     "execution_count": 9,
     "metadata": {},
     "output_type": "execute_result"
    }
   ],
   "source": [
    "train_data['sentiment'].value_counts()"
   ]
  },
  {
   "cell_type": "code",
   "execution_count": 10,
   "id": "1ab9ba2a",
   "metadata": {},
   "outputs": [
    {
     "data": {
      "text/plain": [
       " 1    12500\n",
       "-1    12500\n",
       "Name: sentiment, dtype: int64"
      ]
     },
     "execution_count": 10,
     "metadata": {},
     "output_type": "execute_result"
    }
   ],
   "source": [
    "test_data['sentiment'].value_counts()"
   ]
  },
  {
   "cell_type": "markdown",
   "id": "71105d29",
   "metadata": {},
   "source": [
    "## Pre Processamento"
   ]
  },
  {
   "cell_type": "code",
   "execution_count": 12,
   "id": "300249af",
   "metadata": {},
   "outputs": [],
   "source": [
    "def limpa_texto(text):  \n",
    "    # remove tags do HTML\n",
    "    text = re.sub(r'<.*?>', '', text)    \n",
    "    # remove os caracteres (\\), (') e (\")\n",
    "    text = re.sub(r\"\\\\\", \"\", text)    \n",
    "    text = re.sub(r\"\\'\", \"\", text)    \n",
    "    text = re.sub(r\"\\\"\", \"\", text)\n",
    "    # converte o texto para lowercase\n",
    "    text = text.strip().lower()    \n",
    "    # remove os caracteres de pontuação\n",
    "    filters='!\"\\'#$%&()*+,-./:;<=>?@[\\\\]^_`{|}~\\t\\n'            \n",
    "    translate_dict = dict((c, \" \") for c in filters)\n",
    "    translate_map = str.maketrans(translate_dict)\n",
    "    text = text.translate(translate_map)   \n",
    "    # remove digitos dentro de uma palavra, exemplo brasil123 = brasil\n",
    "    text = re.sub('W*dw*','',text)\n",
    "    # remove espaços extras\n",
    "    text = re.sub(' +', ' ', text)\n",
    "                 \n",
    "    return text"
   ]
  },
  {
   "cell_type": "markdown",
   "id": "3ae31e4b",
   "metadata": {},
   "source": [
    "### Deletar os números"
   ]
  },
  {
   "cell_type": "code",
   "execution_count": 11,
   "id": "18494a8e",
   "metadata": {},
   "outputs": [],
   "source": [
    "# Deletar os números\n",
    "train_data['text'] = train_data['text'].str.replace('\\d+', '')\n",
    "test_data['text'] = test_data['text'].str.replace('\\d+', '')"
   ]
  },
  {
   "cell_type": "markdown",
   "id": "c4f2ef0a",
   "metadata": {},
   "source": [
    "## Modelagem\n",
    "Usar o CountVectorize para gerar a matriz de frequência\n",
    "\n",
    "Aplicarei o parâmetro stop_words para excluir as palavras que não agregam valor ao modelo\n",
    "\n",
    "Também aplicarei o parâmetro preprocessor para chamar a nossa função que limpa o texto"
   ]
  },
  {
   "cell_type": "code",
   "execution_count": 13,
   "id": "f4204ecc",
   "metadata": {},
   "outputs": [
    {
     "name": "stdout",
     "output_type": "stream",
     "text": [
      "Tempo: 42.36s\n"
     ]
    }
   ],
   "source": [
    "#https://scikit-learn.org/stable/modules/generated/sklearn.feature_extraction.text.CountVectorizer.html\n",
    "start = time()\n",
    "vectorizer = CountVectorizer(stop_words=\"english\", preprocessor=limpa_texto)\n",
    "training_features = vectorizer.fit_transform(train_data[\"text\"]) \n",
    "#print('Training Features' + str(training_features))\n",
    "test_features = vectorizer.transform(test_data[\"text\"])\n",
    "#print('Testing Features' + str(test_features))\n",
    "print ('Tempo: {:.2f}s'.format(time()-start))"
   ]
  },
  {
   "cell_type": "markdown",
   "id": "f5966bba",
   "metadata": {},
   "source": [
    "### LinearSVC\n",
    "Com números = 83.49\n",
    "\n",
    "Sem Números = 83.48"
   ]
  },
  {
   "cell_type": "code",
   "execution_count": 14,
   "id": "492f3c7b",
   "metadata": {},
   "outputs": [
    {
     "name": "stdout",
     "output_type": "stream",
     "text": [
      "[LibLinear][-1  1  1 ...  1 -1  1]\n",
      "Tempo: 8.31s\n",
      "\n",
      "Accuracy on the IMDB dataset: 83.48\n",
      "              precision    recall  f1-score   support\n",
      "\n",
      " Negative -1       0.83      0.85      0.84     12500\n",
      "  Positive 1       0.84      0.82      0.83     12500\n",
      "\n",
      "    accuracy                           0.83     25000\n",
      "   macro avg       0.84      0.83      0.83     25000\n",
      "weighted avg       0.84      0.83      0.83     25000\n",
      "\n"
     ]
    }
   ],
   "source": [
    "# Training\n",
    "start = time()\n",
    "\n",
    "model1 = LinearSVC(verbose = 1)\n",
    "model1.fit(training_features, train_data[\"sentiment\"])\n",
    "y_pred = model1.predict(test_features)\n",
    "print(y_pred)\n",
    "# Evaluation\n",
    "acc = accuracy_score(test_data[\"sentiment\"], y_pred)\n",
    "print ('Tempo: {:.2f}s\\n'.format(time()-start))\n",
    "print(\"Accuracy on the IMDB dataset: {:.2f}\".format(acc*100))\n",
    "print(classification_report(test_data['sentiment'], model1.predict(test_features), target_names=['Negative -1','Positive 1']))"
   ]
  },
  {
   "cell_type": "markdown",
   "id": "17b98c92",
   "metadata": {},
   "source": [
    "### LogisticRegression\n",
    "Com Números = 86.00\n",
    "\n",
    "Sem Números = 86.04"
   ]
  },
  {
   "cell_type": "code",
   "execution_count": 15,
   "id": "f2b0d3ab",
   "metadata": {},
   "outputs": [
    {
     "name": "stderr",
     "output_type": "stream",
     "text": [
      "[Parallel(n_jobs=1)]: Using backend SequentialBackend with 1 concurrent workers.\n"
     ]
    },
    {
     "name": "stdout",
     "output_type": "stream",
     "text": [
      "[-1  1  1 ...  1 -1  1]\n",
      "Tempo: 5.75s\n",
      "\n",
      "Accuracy on the IMDB dataset: 86.04\n",
      "              precision    recall  f1-score   support\n",
      "\n",
      " Negative -1       0.85      0.87      0.86     12500\n",
      "  Positive 1       0.87      0.85      0.86     12500\n",
      "\n",
      "    accuracy                           0.86     25000\n",
      "   macro avg       0.86      0.86      0.86     25000\n",
      "weighted avg       0.86      0.86      0.86     25000\n",
      "\n"
     ]
    },
    {
     "name": "stderr",
     "output_type": "stream",
     "text": [
      "[Parallel(n_jobs=1)]: Done   1 out of   1 | elapsed:    5.6s finished\n"
     ]
    }
   ],
   "source": [
    "# Training\n",
    "from sklearn.linear_model import LogisticRegression\n",
    "start = time()\n",
    "\n",
    "model2 = LogisticRegression(verbose = 1)\n",
    "model2.fit(training_features, train_data[\"sentiment\"])\n",
    "y_pred = model2.predict(test_features)\n",
    "print(y_pred)\n",
    "# Evaluation\n",
    "acc = accuracy_score(test_data[\"sentiment\"], y_pred)\n",
    "print ('Tempo: {:.2f}s\\n'.format(time()-start))\n",
    "print(\"Accuracy on the IMDB dataset: {:.2f}\".format(acc*100))\n",
    "print(classification_report(test_data['sentiment'], model2.predict(test_features), target_names=['Negative -1','Positive 1']))"
   ]
  },
  {
   "cell_type": "markdown",
   "id": "6ff7d6d2",
   "metadata": {},
   "source": [
    "### RidgeClassifier\n",
    "Com Números = 75.69\n",
    "\n",
    "Sem Números = 75.79"
   ]
  },
  {
   "cell_type": "code",
   "execution_count": 16,
   "id": "06de8145",
   "metadata": {},
   "outputs": [
    {
     "name": "stdout",
     "output_type": "stream",
     "text": [
      "[-1  1 -1 ... -1 -1  1]\n",
      "Tempo: 18.06s\n",
      "\n",
      "Accuracy on the IMDB dataset: 75.79\n",
      "              precision    recall  f1-score   support\n",
      "\n",
      " Negative -1       0.75      0.77      0.76     12500\n",
      "  Positive 1       0.77      0.74      0.75     12500\n",
      "\n",
      "    accuracy                           0.76     25000\n",
      "   macro avg       0.76      0.76      0.76     25000\n",
      "weighted avg       0.76      0.76      0.76     25000\n",
      "\n"
     ]
    }
   ],
   "source": [
    "# Training\n",
    "from sklearn.linear_model import RidgeClassifier\n",
    "start = time()\n",
    "\n",
    "model3 = RidgeClassifier()\n",
    "model3.fit(training_features, train_data[\"sentiment\"])\n",
    "y_pred = model3.predict(test_features)\n",
    "print(y_pred)\n",
    "# Evaluation\n",
    "acc = accuracy_score(test_data[\"sentiment\"], y_pred)\n",
    "print ('Tempo: {:.2f}s\\n'.format(time()-start))\n",
    "print(\"Accuracy on the IMDB dataset: {:.2f}\".format(acc*100))\n",
    "print(classification_report(test_data['sentiment'], model3.predict(test_features), target_names=['Negative -1','Positive 1']))"
   ]
  },
  {
   "cell_type": "markdown",
   "id": "f49f858f",
   "metadata": {},
   "source": [
    "## PassiveAggressiveClassifier\n",
    "Com Números = 84.02\n",
    "\n",
    "Sem Números = 83.81"
   ]
  },
  {
   "cell_type": "code",
   "execution_count": 17,
   "id": "2e23191e",
   "metadata": {},
   "outputs": [
    {
     "name": "stdout",
     "output_type": "stream",
     "text": [
      "[-1  1  1 ...  1 -1  1]\n",
      "Tempo: 0.97s\n",
      "\n",
      "Accuracy on the IMDB dataset: 83.81\n",
      "              precision    recall  f1-score   support\n",
      "\n",
      " Negative -1       0.75      0.77      0.76     12500\n",
      "  Positive 1       0.77      0.74      0.75     12500\n",
      "\n",
      "    accuracy                           0.76     25000\n",
      "   macro avg       0.76      0.76      0.76     25000\n",
      "weighted avg       0.76      0.76      0.76     25000\n",
      "\n"
     ]
    }
   ],
   "source": [
    "from sklearn.linear_model import PassiveAggressiveClassifier\n",
    "start = time()\n",
    "\n",
    "model4= PassiveAggressiveClassifier(max_iter=150, random_state=0)\n",
    "model4.fit(training_features, train_data[\"sentiment\"])\n",
    "y_pred = model4.predict(test_features)\n",
    "print(y_pred)\n",
    "# Evaluation\n",
    "acc = accuracy_score(test_data[\"sentiment\"], y_pred)\n",
    "print ('Tempo: {:.2f}s\\n'.format(time()-start))\n",
    "print(\"Accuracy on the IMDB dataset: {:.2f}\".format(acc*100))\n",
    "print(classification_report(test_data['sentiment'], model3.predict(test_features), target_names=['Negative -1','Positive 1']))"
   ]
  },
  {
   "cell_type": "markdown",
   "id": "89c95860",
   "metadata": {},
   "source": [
    "## TfidfVectorizer"
   ]
  },
  {
   "cell_type": "code",
   "execution_count": 18,
   "id": "a7d866bd",
   "metadata": {},
   "outputs": [],
   "source": [
    "vectorizer = TfidfVectorizer(stop_words=\"english\",\n",
    "                             preprocessor=limpa_texto,\n",
    "                             ngram_range=(1, 2))\n",
    "training_features = vectorizer.fit_transform(train_data[\"text\"]) \n",
    "test_features = vectorizer.transform(test_data[\"text\"])"
   ]
  },
  {
   "cell_type": "markdown",
   "id": "c7721950",
   "metadata": {},
   "source": [
    "### LogisticRegression\n",
    "Com números = 87.57\n",
    "\n",
    "Sem Números = 87.52"
   ]
  },
  {
   "cell_type": "code",
   "execution_count": 19,
   "id": "240380b9",
   "metadata": {},
   "outputs": [
    {
     "name": "stderr",
     "output_type": "stream",
     "text": [
      "[Parallel(n_jobs=1)]: Using backend SequentialBackend with 1 concurrent workers.\n"
     ]
    },
    {
     "name": "stdout",
     "output_type": "stream",
     "text": [
      "[-1  1  1 ...  1 -1  1]\n",
      "Tempo: 29.44s\n",
      "\n",
      "Accuracy on the IMDB dataset: 87.52\n",
      "              precision    recall  f1-score   support\n",
      "\n",
      " Negative -1       0.88      0.87      0.87     12500\n",
      "  Positive 1       0.87      0.88      0.88     12500\n",
      "\n",
      "    accuracy                           0.88     25000\n",
      "   macro avg       0.88      0.88      0.88     25000\n",
      "weighted avg       0.88      0.88      0.88     25000\n",
      "\n"
     ]
    },
    {
     "name": "stderr",
     "output_type": "stream",
     "text": [
      "[Parallel(n_jobs=1)]: Done   1 out of   1 | elapsed:   29.3s finished\n"
     ]
    }
   ],
   "source": [
    "start = time()\n",
    "\n",
    "model = LogisticRegression(verbose = 1)\n",
    "model.fit(training_features, train_data[\"sentiment\"])\n",
    "y_pred = model.predict(test_features)\n",
    "print(y_pred)\n",
    "# Evaluation\n",
    "acc = accuracy_score(test_data[\"sentiment\"], y_pred)\n",
    "print ('Tempo: {:.2f}s\\n'.format(time()-start))\n",
    "print(\"Accuracy on the IMDB dataset: {:.2f}\".format(acc*100))\n",
    "print(classification_report(test_data['sentiment'], model.predict(test_features), target_names=['Negative -1','Positive 1']))"
   ]
  },
  {
   "cell_type": "markdown",
   "id": "ed87d5df",
   "metadata": {},
   "source": [
    "### Matrix de Confusão"
   ]
  },
  {
   "cell_type": "code",
   "execution_count": 20,
   "id": "b1069edc",
   "metadata": {},
   "outputs": [
    {
     "data": {
      "image/png": "[encoded data removed]",
      "text/plain": [
       "<Figure size 360x360 with 2 Axes>"
      ]
     },
     "metadata": {
      "needs_background": "light"
     },
     "output_type": "display_data"
    }
   ],
   "source": [
    "cm = confusion_matrix(test_data['sentiment'], model.predict(test_features))\n",
    "plt.rcParams['figure.figsize'] = (5, 5)\n",
    "sns.heatmap(cm, annot = True, cmap = plt.cm.Blues, fmt = '.8g')\n",
    "classes = ['Negative -1', 'Positive 1']\n",
    "tick_marks = np.arange(len(classes))\n",
    "plt.xticks(tick_marks, classes, rotation=45)\n",
    "plt.yticks(tick_marks, classes)\n",
    "plt.xlabel('Valor Predito')\n",
    "plt.ylabel('Valor atual')\n",
    "plt.show()"
   ]
  },
  {
   "cell_type": "markdown",
   "id": "743b7297",
   "metadata": {},
   "source": [
    "Avaliação dos modelos e técnicas:\n",
    "\n",
    "    Não farei uso do processo de deletar números pois o mesmo não trouxe resultados significativos."
   ]
  }
 ],
 "metadata": {
  "kernelspec": {
   "display_name": "Python 3",
   "language": "python",
   "name": "python3"
  },
  "language_info": {
   "codemirror_mode": {
    "name": "ipython",
    "version": 3
   },
   "file_extension": ".py",
   "mimetype": "text/x-python",
   "name": "python",
   "nbconvert_exporter": "python",
   "pygments_lexer": "ipython3",
   "version": "3.8.8"
  }
 },
 "nbformat": 4,
 "nbformat_minor": 5
}
